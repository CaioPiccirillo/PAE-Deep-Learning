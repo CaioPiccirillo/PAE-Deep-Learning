{
  "nbformat": 4,
  "nbformat_minor": 0,
  "metadata": {
    "colab": {
      "name": "Projeto.ipynb",
      "provenance": [],
      "collapsed_sections": [],
      "toc_visible": true
    },
    "kernelspec": {
      "name": "python3",
      "display_name": "Python 3"
    },
    "accelerator": "GPU"
  },
  "cells": [
    {
      "cell_type": "markdown",
      "metadata": {
        "id": "FiX1hCJ2tpPz",
        "colab_type": "text"
      },
      "source": [
        "#Introdução à inteligência artificial"
      ]
    },
    {
      "cell_type": "markdown",
      "metadata": {
        "id": "ST4s9JkHwbeq",
        "colab_type": "text"
      },
      "source": [
        "##Projeto final - Classificação de raça de cachorro\n",
        "\n",
        "Este arquivo deve ser entregue juntamente com o modelo treinado até dia 16/11/19, por e-mail ou nas aulas. Para isso, adicione o seu RA no título do arquivo e no arquivo do modelo para identificação.\n",
        "A finalidade deste projeto é modificar o **classificador** de uma rede neural previamente treinada, onde fica a seu critério escolher qual arquitetura do modelo VGG você irá utilizar. \n",
        "Será avaliado quais foram as camadas utilizadas, funções de ativação, métodos para evitar *overfitting*, critério de perda, otimizador e quaisquer outros métodos que alterem os hiperparâmetros da rede.\n",
        "\n",
        "Por fim, a nota será atribuida conforme a seguinte fórmula:\n",
        "\n",
        "<div align=center>\n",
        "$ Nota = Precisão_{percentual} / 10 + 2 $\n",
        "</div>\n",
        "Onde a precisão percentual será calculada pelo algoritmo no final deste arquivo."
      ]
    },
    {
      "cell_type": "markdown",
      "metadata": {
        "id": "hGMKo4COf7Rd",
        "colab_type": "text"
      },
      "source": [
        "### Importação de biblioteca e dados"
      ]
    },
    {
      "cell_type": "code",
      "metadata": {
        "id": "xh2pVk3v05qL",
        "colab_type": "code",
        "colab": {}
      },
      "source": [
        "# Download do dataset\n",
        "!wget -O dataset.tar http://vision.stanford.edu/aditya86/ImageNetDogs/images.tar\n",
        "# Descomprimir a pasta com as imagens\n",
        "!tar -xvf dataset.tar"
      ],
      "execution_count": null,
      "outputs": []
    },
    {
      "cell_type": "code",
      "metadata": {
        "id": "7ezQJlCutuVR",
        "colab_type": "code",
        "colab": {}
      },
      "source": [
        "# Importação das bibliotecas\n",
        "from __future__ import print_function, division\n",
        "\n",
        "import torch\n",
        "import torch.nn as nn\n",
        "import torch.optim as optim\n",
        "from torch.optim import lr_scheduler\n",
        "import numpy as np\n",
        "import torchvision\n",
        "from torchvision import datasets, models, transforms\n",
        "import matplotlib.pyplot as plt\n",
        "import time\n",
        "import os\n",
        "import copy\n",
        "from torch.utils.data.sampler import SubsetRandomSampler\n",
        "from torch.utils.data import Dataset"
      ],
      "execution_count": null,
      "outputs": []
    },
    {
      "cell_type": "code",
      "metadata": {
        "id": "QFyBeU6WIYMt",
        "colab_type": "code",
        "colab": {}
      },
      "source": [
        "# Classe auxiliar para aplicar transformadas em cada dataset separado\n",
        "class ApplyTransform(Dataset):\n",
        "    def __init__(self, dataset, transform=None, target_transform=None):\n",
        "        self.dataset = dataset\n",
        "        self.transform = transform\n",
        "        self.target_transform = target_transform\n",
        "\n",
        "    def __getitem__(self, idx):\n",
        "        sample, target = self.dataset[idx]\n",
        "        if self.transform is not None:\n",
        "            sample = self.transform(sample)\n",
        "        if self.target_transform is not None:\n",
        "            target = self.target_transform(target)\n",
        "        return sample, target\n",
        "\n",
        "    def __len__(self):\n",
        "        return len(self.dataset)"
      ],
      "execution_count": null,
      "outputs": []
    },
    {
      "cell_type": "markdown",
      "metadata": {
        "id": "imOUgZYGf1Qh",
        "colab_type": "text"
      },
      "source": [
        "### Definição das transformações e tamanho de lote"
      ]
    },
    {
      "cell_type": "code",
      "metadata": {
        "id": "c8H1OvbBQ7WJ",
        "colab_type": "code",
        "colab": {}
      },
      "source": [
        "# Porcentagem da quantidade de imagem que será definida para uso como validação e teste\n",
        "# TODO: Defina o valor percentual que esteja entre 0 a 1\n",
        "test_valid_size = 0.4\n",
        "\n",
        "print(\"Tamanhos possíveis de tamanho de lote:\")\n",
        "for i in range(int(20580*test_valid_size/2)):\n",
        "  if(i!=0):\n",
        "    if((20580*test_valid_size/2)%i==0 and (20580*(1-test_valid_size))%i==0):\n",
        "      print(i)"
      ],
      "execution_count": null,
      "outputs": []
    },
    {
      "cell_type": "code",
      "metadata": {
        "id": "1rzUAeDa6yfY",
        "colab_type": "code",
        "colab": {}
      },
      "source": [
        "# Escolha um valor conforme informado anteriormente\n",
        "# TODO: Quantas amostras por lote \n",
        "batch_size = 4\n",
        "\n",
        "# Define as transformações, fique a vontade para adicionar mais transformações!!!\n",
        "train_transform = transforms.Compose([\n",
        "        transforms.RandomResizedCrop(224),\n",
        "        transforms.RandomHorizontalFlip(),\n",
        "        transforms.ToTensor(),\n",
        "        transforms.Normalize([0.485, 0.456, 0.406], [0.229, 0.224, 0.225])])\n",
        "valid_transform = transforms.Compose([\n",
        "        transforms.Resize(256),\n",
        "        transforms.CenterCrop(224),\n",
        "        transforms.ToTensor(),\n",
        "        transforms.Normalize([0.485, 0.456, 0.406], [0.229, 0.224, 0.225])])\n",
        "test_transform = transforms.Compose([\n",
        "        transforms.Resize(256),\n",
        "        transforms.CenterCrop(224),\n",
        "        transforms.ToTensor(),\n",
        "        transforms.Normalize([0.485, 0.456, 0.406], [0.229, 0.224, 0.225])])\n",
        "\n",
        "# Importação das imagens para o tipo \"dataset\"\n",
        "data_dir = '/content/Images'\n",
        "image_dataset = datasets.ImageFolder(data_dir)\n",
        "\n",
        "# Obter índices de treinamento que serão usados para validação\n",
        "num_train = len(image_dataset)\n",
        "indices = list(range(num_train))\n",
        "np.random.shuffle(indices)\n",
        "split = int(np.floor(test_valid_size * num_train))\n",
        "train_idx, valid_idx , test_idx = indices[split:], indices[:int(np.floor(split/2))], indices[int(np.floor(split/2)):split]\n",
        "\n",
        "# Definir amostradores para obter lotes de treinamento e validação\n",
        "train_sampler = SubsetRandomSampler(train_idx)\n",
        "valid_sampler = SubsetRandomSampler(valid_idx)\n",
        "test_sampler = SubsetRandomSampler(test_idx)\n",
        "\n",
        "# Aplica as transformações para o treino e validação\n",
        "train_dataset = ApplyTransform(image_dataset, transform=train_transform)\n",
        "valid_dataset = ApplyTransform(image_dataset, transform=valid_transform)\n",
        "test_dataset = ApplyTransform(image_dataset, transform=test_transform)\n",
        "\n",
        "# Preparar carregadores de dados (combinar conjunto de dados e amostrador)\n",
        "train_loader = torch.utils.data.DataLoader(train_dataset, batch_size=batch_size,\n",
        "    sampler=train_sampler)\n",
        "valid_loader = torch.utils.data.DataLoader(valid_dataset, batch_size=batch_size, \n",
        "    sampler=valid_sampler)\n",
        "test_loader = torch.utils.data.DataLoader(test_dataset, batch_size=batch_size,\n",
        "    sampler=test_sampler)\n",
        "\n",
        "# Especifica as classes das imagens\n",
        "class_names = image_dataset.classes\n",
        "\n",
        "data_loader = {'train':train_loader,'valid':valid_loader,'test':test_loader}\n",
        "\n",
        "device = torch.device(\"cuda:0\" if torch.cuda.is_available() else \"cpu\")"
      ],
      "execution_count": null,
      "outputs": []
    },
    {
      "cell_type": "markdown",
      "metadata": {
        "id": "7q4h5nYZgMJi",
        "colab_type": "text"
      },
      "source": [
        "### Funções auxiliares"
      ]
    },
    {
      "cell_type": "code",
      "metadata": {
        "id": "S6qkBf9SJaeF",
        "colab_type": "code",
        "colab": {}
      },
      "source": [
        "def imshow(inp, title=None):\n",
        "    inp = inp.numpy().transpose((1, 2, 0))\n",
        "    mean = np.array([0.485, 0.456, 0.406])\n",
        "    std = np.array([0.229, 0.224, 0.225])\n",
        "    inp = std * inp + mean\n",
        "    inp = np.clip(inp, 0, 1)\n",
        "    plt.imshow(inp)\n",
        "    if title is not None:\n",
        "      pass\n",
        "      #plt.title(title)\n",
        "    plt.pause(0.001)\n",
        "\n",
        "\n",
        "# Pega um lote de treinamento\n",
        "inputs, classes = next(iter(data_loader['train']))\n",
        "\n",
        "# Faz um \"grid\" com as imagens\n",
        "out = torchvision.utils.make_grid(inputs)\n",
        "\n",
        "# Mostra um lote de imagens\n",
        "imshow(out, title=[class_names[x] for x in classes])"
      ],
      "execution_count": null,
      "outputs": []
    },
    {
      "cell_type": "code",
      "metadata": {
        "id": "oeD6gFKhJvdg",
        "colab_type": "code",
        "colab": {}
      },
      "source": [
        "def train_model(model, criterion, optimizer, scheduler, num_epochs=25):\n",
        "    since = time.time()\n",
        "\n",
        "    best_model_wts = copy.deepcopy(model.state_dict())\n",
        "    best_acc = 0.0\n",
        "\n",
        "    for epoch in range(num_epochs):\n",
        "        print('Época {}/{}'.format(epoch, num_epochs - 1))\n",
        "        print('-' * 10)\n",
        "\n",
        "        # Cada época tem uma fase de treino e validação\n",
        "        for phase in ['train', 'valid']:\n",
        "            if phase == 'train':\n",
        "                model.train()  # Modelo em treinamento\n",
        "            else:\n",
        "                model.eval()   # Modelo em avaliação\n",
        "\n",
        "            running_loss = 0.0\n",
        "            running_corrects = 0\n",
        "\n",
        "            for inputs, labels in data_loader[phase]:\n",
        "                inputs = inputs.to(device)\n",
        "                labels = labels.to(device)\n",
        "\n",
        "                # Zera o gradiente do otimizador\n",
        "                optimizer.zero_grad()\n",
        "\n",
        "                # Analisa somente as perdas se for no treinamento\n",
        "                with torch.set_grad_enabled(phase == 'train'):\n",
        "                    outputs = model(inputs)\n",
        "                    _, preds = torch.max(outputs, 1)\n",
        "                    loss = criterion(outputs, labels)\n",
        "\n",
        "                    # 'loss.backward()' + 'optimizer.step()' somente no treinamento\n",
        "                    if phase == 'train':\n",
        "                        loss.backward()\n",
        "                        optimizer.step()\n",
        "\n",
        "                # Estatisticas\n",
        "                running_loss += loss.item() * inputs.size(0)\n",
        "                running_corrects += torch.sum(preds == labels.data)\n",
        "            if phase == 'train':\n",
        "                scheduler.step()\n",
        "\n",
        "            epoch_loss = running_loss / len(data_loader[phase])\n",
        "            epoch_acc = running_corrects.double() / len(data_loader[phase])\n",
        "\n",
        "            print('{} Perda: {:.4f} Precisão: {:.4f}'.format(\n",
        "                phase, epoch_loss, epoch_acc))\n",
        "\n",
        "            # Copia o modelo\n",
        "            if phase == 'valid' and epoch_acc > best_acc:\n",
        "                best_acc = epoch_acc\n",
        "                best_model_wts = copy.deepcopy(model.state_dict())\n",
        "\n",
        "        print()\n",
        "\n",
        "    time_elapsed = time.time() - since\n",
        "    print('Treinamento completo em {:.0f}m {:.0f}s'.format(\n",
        "        time_elapsed // 60, time_elapsed % 60))\n",
        "    print('Melhor precisão: {:4f}'.format(best_acc))\n",
        "    torch.save(best_model_wts,\"model.pt\")\n",
        "\n",
        "    # Carrega os pesos do melhor modelo\n",
        "    model.load_state_dict(best_model_wts)\n",
        "    return model"
      ],
      "execution_count": null,
      "outputs": []
    },
    {
      "cell_type": "markdown",
      "metadata": {
        "id": "5g6V7emEjiGQ",
        "colab_type": "text"
      },
      "source": [
        "### Modelo\n",
        "\n",
        "Defina seu modelo utilizando o modelo [VGG](https://pytorch.org/docs/stable/torchvision/models.html) **pré-treinado**  e altere o classificador da rede neural."
      ]
    },
    {
      "cell_type": "code",
      "metadata": {
        "id": "XXcTa8dKKsS5",
        "colab_type": "code",
        "colab": {}
      },
      "source": [
        "# TODO: Defina aqui qual VGG você utilizará, lembre-se que é aconselhavel usar a rede pré-treinada\n",
        "model = NotImplemented\n",
        "\n",
        "for param in model.parameters():\n",
        "    param.requires_grad = False\n",
        "   \n",
        "# Quantidade de entradas do classificador antigo\n",
        "num_ftrs = model.classifier[0].in_features\n",
        "\n",
        "# TODO: Defina o novo classificador com entrada de num_ftrs e saída de len(class_names)\n",
        "model.classifier = nn.Sequential(nn.Linear(num_ftrs,x),\n",
        "                                 .\n",
        "                                 .\n",
        "                                 .\n",
        "\n",
        "                                 nn.Linear(y,len(class_names)))\n",
        "\n",
        "# Move o modelo para o dispositivo disponivel\n",
        "model = model.to(device)\n",
        "\n",
        "# TODO: Defina o critério\n",
        "criterion = NotImplemented\n",
        "\n",
        "# TODO: Defina o otimizador\n",
        "optimizer = NotImplemented\n",
        "\n",
        "# TODO: Defina o \"scheduler\"\n",
        "exp_lr_scheduler = NotImplemented"
      ],
      "execution_count": null,
      "outputs": []
    },
    {
      "cell_type": "markdown",
      "metadata": {
        "id": "_bAIzlKHgRBK",
        "colab_type": "text"
      },
      "source": [
        "### Treinamento"
      ]
    },
    {
      "cell_type": "code",
      "metadata": {
        "id": "4B4k0JltKxRi",
        "colab_type": "code",
        "colab": {}
      },
      "source": [
        "model = train_model(model, criterion, optimizer, exp_lr_scheduler,\n",
        "                       num_epochs=1)"
      ],
      "execution_count": null,
      "outputs": []
    },
    {
      "cell_type": "markdown",
      "metadata": {
        "id": "7ESLuAcbgTYM",
        "colab_type": "text"
      },
      "source": [
        "### Carregar o modelo"
      ]
    },
    {
      "cell_type": "code",
      "metadata": {
        "id": "yoZsNKaHOjc4",
        "colab_type": "code",
        "colab": {}
      },
      "source": [
        "# Carrega o modelo \n",
        "file_name = \"model.pt\"\n",
        "model.load_state_dict(torch.load(file_name))"
      ],
      "execution_count": null,
      "outputs": []
    },
    {
      "cell_type": "markdown",
      "metadata": {
        "id": "WvQKJ2E-gX4E",
        "colab_type": "text"
      },
      "source": [
        "### Avaliação do projeto"
      ]
    },
    {
      "cell_type": "code",
      "metadata": {
        "id": "Nrdz-j0JVfBf",
        "colab_type": "code",
        "colab": {}
      },
      "source": [
        "# Faça o teste final para avaliação da rede\n",
        "test_loss = 0.0\n",
        "class_correct = list(0. for i in range(len(class_names)))\n",
        "class_total = list(0. for i in range(len(class_names)))\n",
        "\n",
        "train_on_gpu = torch.cuda.is_available()\n",
        "model.eval()\n",
        "\n",
        "for batch_idx, (data, target) in enumerate(data_loader['test']):\n",
        "    # Move os tensores para a GPU se disponivel\n",
        "    if train_on_gpu:\n",
        "        data, target = data.cuda(), target.cuda()\n",
        "    # Inferência \n",
        "    output = model(data)\n",
        "    # Calcula a perda\n",
        "    loss = criterion(output, target)\n",
        "    # Atualiza a perda\n",
        "    test_loss += loss.item()*data.size(0)\n",
        "    # Convert as probabilidades para classe e escolhe somente a maior\n",
        "    _, pred = torch.max(output, 1)    \n",
        "    # Compara as predições com a classe verdadeira\n",
        "    correct_tensor = pred.eq(target.data.view_as(pred))\n",
        "    correct = np.squeeze(correct_tensor.numpy()) if not train_on_gpu else np.squeeze(correct_tensor.cpu().numpy())\n",
        "    # Calcula a precisão para cada objeto\n",
        "    for i in range(batch_size):\n",
        "        label = target.data[i]\n",
        "        if(correct.size==batch_size):\n",
        "          class_correct[label] += correct[i].item()\n",
        "          class_total[label] += 1\n",
        "\n",
        "# Perda média\n",
        "test_loss = test_loss/len(test_loader.dataset)\n",
        "print('Perda de teste: {:.6f}\\n'.format(test_loss))\n",
        "\n",
        "for i in range(len(class_names)):\n",
        "    if class_total[i] > 0:\n",
        "      name = class_names[i][10:].replace(' ', '').capitalize()\n",
        "      print('Precisão de teste de %5s: %2d%% (%2d/%2d)' % (\n",
        "            name, 100 * class_correct[i] / class_total[i],\n",
        "            np.sum(class_correct[i]), np.sum(class_total[i])))\n",
        "    else:\n",
        "        print('Precisão de teste de %5s: N/A (sem dados de treinamento)' % (class_names[i]))\n",
        "overall_acc = 100. * np.sum(class_correct) / np.sum(class_total)\n",
        "print('\\nPrecisão de teste geral: %6.2f%% (%3d/%3d)' % (\n",
        "    overall_acc,\n",
        "    np.sum(class_correct), np.sum(class_total)))\n",
        "\n",
        "separated_int = np.modf(overall_acc/10)\n",
        "separated_dec = np.modf(separated_int[0]*10)\n",
        "if(separated_dec[1]==5):\n",
        "  dec=0.5\n",
        "elif(separated_dec[1]<5):\n",
        "  dec=0\n",
        "elif(separated_dec[1]>5):\n",
        "  dec=1\n",
        "if(separated_int[1]+dec+2>10):\n",
        "  final = 10\n",
        "else:\n",
        "  final = separated_int[1]+dec+2\n",
        "print(\"Sua nota é {}!\".format(final))"
      ],
      "execution_count": null,
      "outputs": []
    }
  ]
}
{
  "nbformat": 4,
  "nbformat_minor": 0,
  "metadata": {
    "colab": {
      "name": "Projeto_Passaros.ipynb",
      "provenance": [],
      "collapsed_sections": [],
      "toc_visible": true
    },
    "kernelspec": {
      "name": "python3",
      "display_name": "Python 3"
    },
    "accelerator": "GPU"
  },
  "cells": [
    {
      "cell_type": "markdown",
      "metadata": {
        "id": "G2bu0Chb9BmG"
      },
      "source": [
        "#Introdução à inteligência artificial"
      ]
    },
    {
      "cell_type": "markdown",
      "metadata": {
        "id": "l5Ecnu0w9Bd9"
      },
      "source": [
        "##Projeto final - Classificação imagens de espécies de pássaros\n",
        "\n",
        "Este arquivo deve ser entregue até dia 16/11/20. Para isso, adicione o seu RA no título do arquivo.\n",
        "A finalidade deste projeto é modificar o **classificador** de uma rede neural previamente treinada, onde fica a seu critério escolher qual arquitetura do modelo VGG você irá utilizar. \n",
        "Será avaliado quais foram as camadas utilizadas, funções de ativação, métodos para evitar *overfitting*, critério de perda, otimizador e quaisquer outros métodos que alterem os hiperparâmetros da rede.\n",
        "\n",
        "A precisão percentual será calculada pelo algoritmo no final deste arquivo."
      ]
    },
    {
      "cell_type": "markdown",
      "metadata": {
        "id": "cB4pwzjt_hkb"
      },
      "source": [
        "###Configuração inicial\n",
        "Para que possamos baixar o dataset do Kaggle, crie uma conta ou associe sua conta Google. Entre em \"My account\" clicando no canto superior direito (que seria seu usuário), dentro da sua conta vá até a sessão \"API\", clique no botão \"Create New API Token\".\n",
        "\n",
        "Será feito o download de um arquivo chamado \"kaggle.json\" que permitirá acesso aos datasets no Kaggle.\n",
        "Execute a célula a seguir, ela pedirá para que você insira um arquivo, portanto selecione o \"kaggle.json\" que será usado para fazer o download do dataset."
      ]
    },
    {
      "cell_type": "code",
      "metadata": {
        "id": "GuLGMn6b8t56"
      },
      "source": [
        "from google.colab import files\n",
        "files.upload()\n",
        "!mkdir ~/.kaggle\n",
        "!cp kaggle.json ~/.kaggle/\n",
        "!chmod 600 ~/.kaggle/kaggle.json\n",
        "!kaggle datasets download -d gpiosenka/100-bird-species"
      ],
      "execution_count": null,
      "outputs": []
    },
    {
      "cell_type": "markdown",
      "metadata": {
        "id": "dQkOQTJIBE0K"
      },
      "source": [
        "Execute a célula a seguir para extrair os dados:"
      ]
    },
    {
      "cell_type": "code",
      "metadata": {
        "id": "L2BdN5DWBAaD"
      },
      "source": [
        "!unzip /content/100-bird-species.zip"
      ],
      "execution_count": null,
      "outputs": []
    },
    {
      "cell_type": "code",
      "metadata": {
        "id": "YttS4gD3BFzc"
      },
      "source": [
        "# Importação das bibliotecas\n",
        "from __future__ import print_function, division\n",
        "\n",
        "import torch\n",
        "import torch.nn as nn\n",
        "import torch.optim as optim\n",
        "from torch.optim import lr_scheduler\n",
        "import numpy as np\n",
        "import torchvision\n",
        "from torchvision import datasets, models, transforms\n",
        "import matplotlib.pyplot as plt\n",
        "import time\n",
        "import os\n",
        "import copy\n",
        "from torch.utils.data.sampler import SubsetRandomSampler\n",
        "from torch.utils.data import Dataset"
      ],
      "execution_count": null,
      "outputs": []
    },
    {
      "cell_type": "markdown",
      "metadata": {
        "id": "vGGXDvGEBeDB"
      },
      "source": [
        "### Definição das transformações e tamanho de lote"
      ]
    },
    {
      "cell_type": "code",
      "metadata": {
        "id": "dqmBsBRqEHUa"
      },
      "source": [
        "\n",
        "# Define as transformações, fique a vontade para adicionar mais transformações!!!\n",
        "data_transforms = {\n",
        "    'train': transforms.Compose([\n",
        "        transforms.RandomResizedCrop(224),\n",
        "        transforms.RandomHorizontalFlip(),\n",
        "        transforms.ToTensor(),\n",
        "        transforms.Normalize([0.485, 0.456, 0.406], [0.229, 0.224, 0.225])\n",
        "    ]),\n",
        "    'valid': transforms.Compose([\n",
        "        transforms.Resize(256),\n",
        "        transforms.CenterCrop(224),\n",
        "        transforms.ToTensor(),\n",
        "        transforms.Normalize([0.485, 0.456, 0.406], [0.229, 0.224, 0.225])\n",
        "    ]),\n",
        "    'test': transforms.Compose([\n",
        "        transforms.Resize(256),\n",
        "        transforms.CenterCrop(224),\n",
        "        transforms.ToTensor(),\n",
        "        transforms.Normalize([0.485, 0.456, 0.406], [0.229, 0.224, 0.225])\n",
        "    ])\n",
        "}\n",
        "\n",
        "data_dir = '/content/'\n",
        "image_datasets = {x: datasets.ImageFolder(os.path.join(data_dir, x),\n",
        "                                          data_transforms[x])\n",
        "                  for x in ['train', 'valid','test']}\n",
        "data_loader = {x: torch.utils.data.DataLoader(image_datasets[x], batch_size=4,\n",
        "                                             shuffle=True, num_workers=4)\n",
        "              for x in ['train', 'valid','test']}\n",
        "dataset_sizes = {x: len(image_datasets[x]) for x in ['train', 'valid','test']}\n",
        "class_names = image_datasets['train'].classes\n",
        "\n",
        "device = torch.device(\"cuda:0\" if torch.cuda.is_available() else \"cpu\")"
      ],
      "execution_count": null,
      "outputs": []
    },
    {
      "cell_type": "code",
      "metadata": {
        "id": "noYddgUdFKit"
      },
      "source": [
        "# Função auxiliar\n",
        "def imshow(inp, title=None):\n",
        "    inp = inp.numpy().transpose((1, 2, 0))\n",
        "    mean = np.array([0.485, 0.456, 0.406])\n",
        "    std = np.array([0.229, 0.224, 0.225])\n",
        "    inp = std * inp + mean\n",
        "    inp = np.clip(inp, 0, 1)\n",
        "    plt.imshow(inp)\n",
        "    if title is not None:\n",
        "      plt.title(title)\n",
        "    plt.pause(0.001)\n",
        "\n",
        "\n",
        "# Pega um lote de treinamento\n",
        "inputs, classes = next(iter(data_loader['train']))\n",
        "\n",
        "# Faz um \"grid\" com as imagens\n",
        "out = torchvision.utils.make_grid(inputs)\n",
        "\n",
        "# Mostra um lote de imagens\n",
        "imshow(out, title=[class_names[x] for x in classes])"
      ],
      "execution_count": null,
      "outputs": []
    },
    {
      "cell_type": "code",
      "metadata": {
        "id": "XJUySLwMBdyW"
      },
      "source": [
        "def train_model(model, criterion, optimizer, scheduler, num_epochs=25):\n",
        "    since = time.time()\n",
        "\n",
        "    best_model_wts = copy.deepcopy(model.state_dict())\n",
        "    best_acc = 0.0\n",
        "\n",
        "    for epoch in range(num_epochs):\n",
        "        print('Época {}/{}'.format(epoch, num_epochs - 1))\n",
        "        print('-' * 10)\n",
        "\n",
        "        # Cada época tem uma fase de treino e validação\n",
        "        for phase in ['train', 'valid']:\n",
        "            if phase == 'train':\n",
        "                model.train()  # Modelo em treinamento\n",
        "            else:\n",
        "                model.eval()   # Modelo em avaliação\n",
        "\n",
        "            running_loss = 0.0\n",
        "            running_corrects = 0\n",
        "\n",
        "            for inputs, labels in data_loader[phase]:\n",
        "                inputs = inputs.to(device)\n",
        "                labels = labels.to(device)\n",
        "\n",
        "                # Zera o gradiente do otimizador\n",
        "                optimizer.zero_grad()\n",
        "\n",
        "                # Analisa somente as perdas se for no treinamento\n",
        "                with torch.set_grad_enabled(phase == 'train'):\n",
        "                    outputs = model(inputs)\n",
        "                    _, preds = torch.max(outputs, 1)\n",
        "                    loss = criterion(outputs, labels)\n",
        "\n",
        "                    # 'loss.backward()' + 'optimizer.step()' somente no treinamento\n",
        "                    if phase == 'train':\n",
        "                        loss.backward()\n",
        "                        optimizer.step()\n",
        "\n",
        "                # Estatisticas\n",
        "                running_loss += loss.item() * inputs.size(0)\n",
        "                running_corrects += torch.sum(preds == labels.data)\n",
        "            if phase == 'train':\n",
        "                scheduler.step()\n",
        "\n",
        "            epoch_loss = running_loss / dataset_sizes[phase]\n",
        "            epoch_acc = running_corrects.double() / dataset_sizes[phase]\n",
        "\n",
        "            print('{} Perda: {:.4f} Precisão: {:.4f}'.format(\n",
        "                phase, epoch_loss, epoch_acc))\n",
        "\n",
        "            # Copia o modelo\n",
        "            if phase == 'valid' and epoch_acc > best_acc:\n",
        "                best_acc = epoch_acc\n",
        "                best_model_wts = copy.deepcopy(model.state_dict())\n",
        "\n",
        "        print()\n",
        "\n",
        "    time_elapsed = time.time() - since\n",
        "    print('Treinamento completo em {:.0f}m {:.0f}s'.format(\n",
        "        time_elapsed // 60, time_elapsed % 60))\n",
        "    print('Melhor precisão: {:4f}'.format(best_acc))\n",
        "    torch.save(best_model_wts,\"model.pt\")\n",
        "\n",
        "    # Carrega os pesos do melhor modelo\n",
        "    model.load_state_dict(best_model_wts)\n",
        "    return model"
      ],
      "execution_count": null,
      "outputs": []
    },
    {
      "cell_type": "markdown",
      "metadata": {
        "id": "gOByrnbkFaW8"
      },
      "source": [
        "### Modelo\n",
        "\n",
        "Defina seu modelo utilizando o modelo [VGG](https://pytorch.org/docs/stable/torchvision/models.html) **pré-treinado**  e altere o classificador da rede neural."
      ]
    },
    {
      "cell_type": "code",
      "metadata": {
        "id": "muG_3uI3FZ9y"
      },
      "source": [
        "# TODO: Defina aqui qual VGG você utilizará, lembre-se que é aconselhavel usar a rede pré-treinada\n",
        "model = NotImplemented\n",
        "\n",
        "for param in model.parameters():\n",
        "    param.requires_grad = False\n",
        "   \n",
        "# Quantidade de entradas do classificador antigo\n",
        "num_ftrs = model.classifier[0].in_features\n",
        "\n",
        "# TODO: Defina o novo classificador com entrada de num_ftrs e saída de len(class_names)\n",
        "model.classifier = nn.Sequential(...)\n",
        "\n",
        "# Move o modelo para o dispositivo disponivel\n",
        "model = model.to(device)\n",
        "\n",
        "# TODO: Defina o critério\n",
        "criterion = NotImplemented\n",
        "\n",
        "# TODO: Defina o otimizador\n",
        "optimizer = NotImplemented\n",
        "\n",
        "# TODO: Defina o \"scheduler\"\n",
        "exp_lr_scheduler = NotImplemented"
      ],
      "execution_count": null,
      "outputs": []
    },
    {
      "cell_type": "markdown",
      "metadata": {
        "id": "hk1FeExyF4bv"
      },
      "source": [
        "### Treinamento"
      ]
    },
    {
      "cell_type": "code",
      "metadata": {
        "id": "5G5bz0m3F304"
      },
      "source": [
        "model = train_model(model, criterion, optimizer, exp_lr_scheduler,\n",
        "                    num_epochs=1)"
      ],
      "execution_count": null,
      "outputs": []
    },
    {
      "cell_type": "markdown",
      "metadata": {
        "id": "pMktE0RPF8no"
      },
      "source": [
        "### Carregar o modelo"
      ]
    },
    {
      "cell_type": "code",
      "metadata": {
        "id": "edWQ4m98F9dO"
      },
      "source": [
        "# Carrega o modelo \n",
        "file_name = \"model.pt\"\n",
        "model.load_state_dict(torch.load(file_name))"
      ],
      "execution_count": null,
      "outputs": []
    },
    {
      "cell_type": "markdown",
      "metadata": {
        "id": "GZpNt45aGDDW"
      },
      "source": [
        "### Avaliação do projeto"
      ]
    },
    {
      "cell_type": "code",
      "metadata": {
        "id": "MjGo8JqyGB8K"
      },
      "source": [
        "# Faça o teste final para avaliação da rede\n",
        "test_loss = 0.0\n",
        "class_correct = list(0. for i in range(len(class_names)))\n",
        "class_total = list(0. for i in range(len(class_names)))\n",
        "batch_size = 4\n",
        "train_on_gpu = torch.cuda.is_available()\n",
        "model.eval()\n",
        "\n",
        "for batch_idx, (data, target) in enumerate(data_loader['test']):\n",
        "    # Move os tensores para a GPU se disponivel\n",
        "    if train_on_gpu:\n",
        "        data, target = data.cuda(), target.cuda()\n",
        "    # Inferência \n",
        "    output = model(data)\n",
        "    # Calcula a perda\n",
        "    loss = criterion(output, target)\n",
        "    # Atualiza a perda\n",
        "    test_loss += loss.item()*data.size(0)\n",
        "    # Convert as probabilidades para classe e escolhe somente a maior\n",
        "    _, pred = torch.max(output, 1)    \n",
        "    # Compara as predições com a classe verdadeira\n",
        "    correct_tensor = pred.eq(target.data.view_as(pred))\n",
        "    correct = np.squeeze(correct_tensor.numpy()) if not train_on_gpu else np.squeeze(correct_tensor.cpu().numpy())\n",
        "    # Calcula a precisão para cada objeto\n",
        "    for i in range(batch_size):\n",
        "        if(correct.size==batch_size):\n",
        "          label = target.data[i]\n",
        "          class_correct[label] += correct[i].item()\n",
        "          class_total[label] += 1\n",
        "\n",
        "# Perda média\n",
        "test_loss = test_loss/len(data_loader['test'].dataset)\n",
        "print('Perda de teste: {:.6f}\\n'.format(test_loss))\n",
        "\n",
        "for i in range(len(class_names)):\n",
        "    if class_total[i] > 0:\n",
        "      name = class_names[i].capitalize()\n",
        "      print('Precisão de teste de %5s: %2d%% (%2d/%2d)' % (\n",
        "            name, 100 * class_correct[i] / class_total[i],\n",
        "            np.sum(class_correct[i]), np.sum(class_total[i])))\n",
        "    else:\n",
        "        print('Precisão de teste de %5s: N/A (sem dados de treinamento)' % (class_names[i]))\n",
        "overall_acc = 100. * np.sum(class_correct) / np.sum(class_total)\n",
        "print('\\nPrecisão de teste geral: %6.2f%% (%3d/%3d)' % (\n",
        "    overall_acc,\n",
        "    np.sum(class_correct), np.sum(class_total)))"
      ],
      "execution_count": null,
      "outputs": []
    },
    {
      "cell_type": "markdown",
      "metadata": {
        "id": "ouTt0kzXv-rH"
      },
      "source": [
        "### Insira sua imagem (opcional)"
      ]
    },
    {
      "cell_type": "code",
      "metadata": {
        "id": "U_S4L4oxKy_a"
      },
      "source": [
        " files.upload()"
      ],
      "execution_count": null,
      "outputs": []
    },
    {
      "cell_type": "code",
      "metadata": {
        "id": "zMUlH4VTwb6v"
      },
      "source": [
        "from PIL import Image\n",
        "\n",
        "# Carrega imagem \n",
        "image = Image.open(\"download.jpeg\")\n",
        "# Aplica transformações\n",
        "input = data_transforms['test'](image)\n",
        "# Entra em modo de avaliação\n",
        "model.eval()\n",
        "# Muda o modelo para a CPU\n",
        "model.to(torch.device(\"cpu\"))\n",
        "# Faz a inferência\n",
        "logit = model(input.unsqueeze(0))\n",
        "# Cria uma \"camada\" de softmax\n",
        "softmax = nn.Softmax(dim=1)\n",
        "# Aplica saida\n",
        "out = softmax(logit)\n",
        "# Analisa saida\n",
        "value, indice = out.topk(1)\n",
        "# Mostra probabilidade e classe\n",
        "print(\"Probabilidade de {} de ser {}\".format(float(value),class_names[int(indice)]))"
      ],
      "execution_count": null,
      "outputs": []
    },
    {
      "cell_type": "code",
      "metadata": {
        "id": "Cs1xij_4ySO6"
      },
      "source": [
        ""
      ],
      "execution_count": null,
      "outputs": []
    }
  ]
}